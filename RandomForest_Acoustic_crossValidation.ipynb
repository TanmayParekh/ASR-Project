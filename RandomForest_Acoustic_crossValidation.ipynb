{
 "cells": [
  {
   "cell_type": "code",
   "execution_count": 34,
   "metadata": {
    "collapsed": false
   },
   "outputs": [],
   "source": [
    "# A random forest classifier - A random forest is a meta estimator that fits a number of decision tree classifiers \n",
    "# on various sub-samples of the dataset and use averaging to improve the predictive accuracy and control over-fitting.\n",
    "from sklearn import ensemble\n",
    "import pandas as pd\n",
    "import numpy as np\n",
    "from sklearn.cross_validation import train_test_split,KFold,cross_val_score\n",
    "from sklearn import metrics\n",
    "import math "
   ]
  },
  {
   "cell_type": "code",
   "execution_count": 35,
   "metadata": {
    "collapsed": false
   },
   "outputs": [],
   "source": [
    "total_df = pd.read_csv('spanish.AudioFeatures.csv')\n",
    "#X = np.array(total_df.ix[0:, 1:28])\n",
    "X1 = np.array(np.log(total_df[\"pcm_intensity\"]))\n",
    "X2 = np.array(total_df.ix[0:, 2:27])\n",
    "X3 = np.array(np.log(total_df[\"pcm_RMSenergy\"]))\n",
    "\n",
    "X = np.column_stack((X1,X2,X3))\n",
    "y = np.array(total_df.ix[0:, -1:])"
   ]
  },
  {
   "cell_type": "code",
   "execution_count": 37,
   "metadata": {
    "collapsed": false,
    "scrolled": true
   },
   "outputs": [
    {
     "name": "stdout",
     "output_type": "stream",
     "text": [
      "entropy\n",
      "10,59.0562602772\n",
      "20,58.3787878788\n",
      "30,56.0950199671\n",
      "40,55.4233027954\n",
      "50,55.645994832\n",
      "60,56.786939159\n",
      "70,56.786939159\n",
      "80,57.6804087385\n",
      "90,57.2260981912\n",
      "100,57.9182522903\n",
      "110,57.9081512802\n",
      "120,58.145994832\n",
      "130,57.8927648579\n",
      "140,58.1303735025\n",
      "150,57.8927648579\n",
      "160,58.1200375852\n",
      "170,57.4432699084\n",
      "180,57.8978153629\n",
      "190,56.9834390416\n",
      "gini\n",
      "10,59.9187221048\n",
      "20,58.3165374677\n",
      "30,58.3374442095\n",
      "40,59.0190274841\n",
      "50,57.8874794456\n",
      "60,58.7862344374\n",
      "70,58.7864693446\n",
      "80,57.8670425182\n",
      "90,58.7761334273\n",
      "100,57.8824289406\n",
      "110,58.801855767\n",
      "120,58.7968052619\n",
      "130,59.2410147992\n",
      "140,58.5433403805\n",
      "150,57.871858116\n",
      "160,57.8819591261\n",
      "170,58.801855767\n",
      "180,57.8978153629\n",
      "190,57.8819591261\n"
     ]
    }
   ],
   "source": [
    "# check classification accuracy using random forest\n",
    "# n_estimators - number of trees in the forest\n",
    "# criterion - The function to measure the quality of a split. gini” for the Gini impurity and “entropy” for the information gain\n",
    "# max_features - The number of features to consider when looking for the best split\n",
    "# oob_score - Whether to use out-of-bag samples to estimate the generalization accuracy.\n",
    "# random_state - is the seed used by the random number generator\n",
    "# class_weight - Weights associated with classes in the form {class_label: weight}\n",
    "n_features=27\n",
    "imp = ['entropy', 'gini']\n",
    "for imp_fn in imp:\n",
    "    print(imp_fn)\n",
    "    for est in range(10, 200, 10):\n",
    "        decision_forest = ensemble.RandomForestClassifier(\n",
    "                                                n_estimators = est,\n",
    "                                                criterion = imp_fn,\n",
    "                                                max_features = None,\n",
    "                                                oob_score = False,\n",
    "                                                random_state = 42,\n",
    "                                                class_weight = None\n",
    "                                               )\n",
    "\n",
    "        scores = cross_val_score(decision_forest, X, y.ravel(), cv=10, scoring='accuracy')\n",
    "        print(str(est) + \",\" + str((scores.mean())*100))"
   ]
  },
  {
   "cell_type": "code",
   "execution_count": null,
   "metadata": {
    "collapsed": true
   },
   "outputs": [],
   "source": []
  },
  {
   "cell_type": "code",
   "execution_count": null,
   "metadata": {
    "collapsed": true
   },
   "outputs": [],
   "source": []
  }
 ],
 "metadata": {
  "kernelspec": {
   "display_name": "Python 3",
   "language": "python",
   "name": "python3"
  },
  "language_info": {
   "codemirror_mode": {
    "name": "ipython",
    "version": 3
   },
   "file_extension": ".py",
   "mimetype": "text/x-python",
   "name": "python",
   "nbconvert_exporter": "python",
   "pygments_lexer": "ipython3",
   "version": "3.6.0"
  }
 },
 "nbformat": 4,
 "nbformat_minor": 2
}
