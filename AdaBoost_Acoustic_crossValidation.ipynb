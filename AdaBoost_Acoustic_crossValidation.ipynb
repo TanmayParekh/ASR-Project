{
 "cells": [
  {
   "cell_type": "code",
   "execution_count": 2,
   "metadata": {
    "collapsed": false
   },
   "outputs": [
    {
     "name": "stderr",
     "output_type": "stream",
     "text": [
      "/home/devendra/anaconda3/lib/python3.6/site-packages/sklearn/cross_validation.py:44: DeprecationWarning: This module was deprecated in version 0.18 in favor of the model_selection module into which all the refactored classes and functions are moved. Also note that the interface of the new CV iterators are different from that of this module. This module will be removed in 0.20.\n",
      "  \"This module will be removed in 0.20.\", DeprecationWarning)\n"
     ]
    }
   ],
   "source": [
    "# An AdaBoost classifier - An AdaBoost classifier is a meta-estimator that begins by fitting a classifier on the original \n",
    "# dataset and then fits additional copies of the classifier on the same dataset but where the weights of incorrectly classified \n",
    "# instances are adjusted such that subsequent classifiers focus more on difficult cases.\n",
    "from sklearn import ensemble\n",
    "import pandas as pd\n",
    "import numpy as np\n",
    "from sklearn.cross_validation import train_test_split,KFold,cross_val_score\n",
    "from sklearn import metrics\n",
    "import math "
   ]
  },
  {
   "cell_type": "code",
   "execution_count": 3,
   "metadata": {
    "collapsed": false
   },
   "outputs": [],
   "source": [
    "total_df = pd.read_csv('spanish.AudioFeatures.csv')\n",
    "#X = np.array(total_df.ix[0:, 1:28])\n",
    "X1 = np.array(np.log(total_df[\"pcm_intensity\"]))\n",
    "X2 = np.array(total_df.ix[0:, 2:27])\n",
    "X3 = np.array(np.log(total_df[\"pcm_RMSenergy\"]))\n",
    "\n",
    "X = np.column_stack((X1,X2,X3))\n",
    "y = np.array(total_df.ix[0:, -1:])"
   ]
  },
  {
   "cell_type": "code",
   "execution_count": 6,
   "metadata": {
    "collapsed": false,
    "scrolled": true
   },
   "outputs": [
    {
     "name": "stdout",
     "output_type": "stream",
     "text": [
      "entropy\n",
      "10,51.0947850599\n",
      "20,50.1643175946\n",
      "30,51.9988254639\n",
      "40,55.1703077284\n",
      "50,53.8383838384\n",
      "60,55.1914493775\n",
      "70,54.519967113\n",
      "80,53.8177120038\n",
      "90,53.1414141414\n",
      "100,52.6868686869\n",
      "110,55.1974395114\n",
      "120,54.0454545455\n",
      "130,54.0557904628\n",
      "140,53.5961945032\n",
      "150,55.1976744186\n",
      "160,55.1765327696\n",
      "170,55.1712473573\n",
      "180,55.1813483674\n",
      "190,55.6414141414\n"
     ]
    }
   ],
   "source": [
    "# check classification accuracy using AdaBoost classifier\n",
    "# n_estimators - The maximum number of estimators at which boosting is terminated.\n",
    "# random_state - is the seed used by the random number generator\n",
    "n_features=27\n",
    "imp = ['entropy']\n",
    "for imp_fn in imp:\n",
    "    print(imp_fn)\n",
    "    for est in range(10, 200, 10):\n",
    "        decision_forest = ensemble.AdaBoostClassifier(\n",
    "                                                n_estimators = est,\n",
    "                                                random_state = 42\n",
    "                                               )\n",
    "\n",
    "        scores = cross_val_score(decision_forest, X, y.ravel(), cv=10, scoring='accuracy')\n",
    "        print(str(est) + \",\" + str((scores.mean())*100))"
   ]
  },
  {
   "cell_type": "code",
   "execution_count": null,
   "metadata": {
    "collapsed": true
   },
   "outputs": [],
   "source": []
  },
  {
   "cell_type": "code",
   "execution_count": null,
   "metadata": {
    "collapsed": true
   },
   "outputs": [],
   "source": []
  }
 ],
 "metadata": {
  "kernelspec": {
   "display_name": "Python 3",
   "language": "python",
   "name": "python3"
  },
  "language_info": {
   "codemirror_mode": {
    "name": "ipython",
    "version": 3
   },
   "file_extension": ".py",
   "mimetype": "text/x-python",
   "name": "python",
   "nbconvert_exporter": "python",
   "pygments_lexer": "ipython3",
   "version": "3.6.0"
  }
 },
 "nbformat": 4,
 "nbformat_minor": 2
}
